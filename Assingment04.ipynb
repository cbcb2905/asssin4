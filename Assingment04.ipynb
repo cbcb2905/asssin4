{
  "nbformat": 4,
  "nbformat_minor": 0,
  "metadata": {
    "colab": {
      "provenance": []
    },
    "kernelspec": {
      "name": "python3",
      "display_name": "Python 3"
    },
    "language_info": {
      "name": "python"
    }
  },
  "cells": [
    {
      "cell_type": "code",
      "source": [
        "#Q1 - What are the five key concepts of Object-Oriented Programming (OOP)"
      ],
      "metadata": {
        "id": "q9fN3PQl9mgx"
      },
      "execution_count": null,
      "outputs": []
    },
    {
      "cell_type": "markdown",
      "source": [
        "The five key concepts of Object-Oriented Programming (OOP) are:\n",
        "\n",
        "Class: A blueprint for creating objects, defining the properties (attributes) and behaviors (methods) that the objects will have.\n",
        "\n",
        "Object: An instance of a class. Objects are the entities created using the class blueprint, holding specific data and functions.\n",
        "\n",
        "Encapsulation: The concept of bundling data (attributes) and methods (functions) that operate on the data into a single unit (class). It also includes restricting access to some of the object's components to ensure controlled modification, typically using access specifiers like private, protected, and public.\n",
        "\n",
        "Inheritance: A mechanism by which one class (child or subclass) can inherit the properties and behaviors of another class (parent or superclass). This allows code reuse and establishes a hierarchy between classes.\n",
        "\n",
        "Polymorphism: The ability to present the same interface for different underlying forms (data types). It allows one function or method to work in different ways based on the object it is acting upon, commonly achieved through method overriding or overloading.\n",
        "\n",
        "These concepts are fundamental in designing robust, reusable, and maintainable code in OOP systems."
      ],
      "metadata": {
        "id": "Q77n3tt09hA5"
      }
    },
    {
      "cell_type": "code",
      "source": [
        "#Q2 - Write a Python class for a Car with attributes for make, model, and year. Include a method to display the car's information.\n"
      ],
      "metadata": {
        "id": "Ra1YRZeM9tsh"
      },
      "execution_count": null,
      "outputs": []
    },
    {
      "cell_type": "code",
      "source": [
        "class Car:\n",
        "    def __init__(self, make, model, year):\n",
        "        self.make = make\n",
        "        self.model = model\n",
        "        self.year = year\n",
        "\n",
        "    def display_info(self):\n",
        "        print(f\"Car Information: {self.year} {self.make} {self.model}\")\n"
      ],
      "metadata": {
        "id": "hlLwLbCY95uw"
      },
      "execution_count": 1,
      "outputs": []
    },
    {
      "cell_type": "code",
      "source": [
        "my_car = Car(\"Toyota\", \"Camry\", 2020)\n",
        "my_car.display_info()  #output - Car Information: 2020 Toyota Camry\n"
      ],
      "metadata": {
        "colab": {
          "base_uri": "https://localhost:8080/"
        },
        "id": "T3KJJJtX-AxW",
        "outputId": "3b67089e-bb1c-44d9-d39b-d1914823c97a"
      },
      "execution_count": 2,
      "outputs": [
        {
          "output_type": "stream",
          "name": "stdout",
          "text": [
            "Car Information: 2020 Toyota Camry\n"
          ]
        }
      ]
    },
    {
      "cell_type": "code",
      "source": [
        "#Q3 - Explain the difference between instance methods and class methods. Provide an example of each"
      ],
      "metadata": {
        "id": "MaB6vexj-H-h"
      },
      "execution_count": null,
      "outputs": []
    },
    {
      "cell_type": "markdown",
      "source": [
        "1. Instance Methods:\n",
        "Definition: These methods are defined inside a class and are related to the instance of the class.\n",
        "\n",
        "Access: They can access and modify instance attributes (i.e., attributes specific to the object created from the class).\n",
        "\n",
        "Decorator: No special decorator is used.\n",
        "\n",
        "Self: They take self as the first parameter, which refers to the instance of the class."
      ],
      "metadata": {
        "id": "g99m8pte-U5B"
      }
    },
    {
      "cell_type": "code",
      "source": [
        "#example instance method\n",
        "class Car:\n",
        "    def __init__(self, make, model):\n",
        "        self.make = make\n",
        "        self.model = model\n",
        "\n",
        "    def car_info(self):\n",
        "        return f\"Car Make: {self.make}, Model: {self.model}\"\n",
        "\n",
        "# Create an instance of Car\n",
        "my_car = Car(\"Toyota\", \"Corolla\")\n",
        "print(my_car.car_info())  # Output: Car Make: Toyota, Model: Corolla\n"
      ],
      "metadata": {
        "colab": {
          "base_uri": "https://localhost:8080/"
        },
        "id": "Cfpx_wbr-QMa",
        "outputId": "9c0a1965-8c44-46cd-8893-f157fcd18990"
      },
      "execution_count": 3,
      "outputs": [
        {
          "output_type": "stream",
          "name": "stdout",
          "text": [
            "Car Make: Toyota, Model: Corolla\n"
          ]
        }
      ]
    },
    {
      "cell_type": "markdown",
      "source": [
        "2. Class Methods:\n",
        "Definition: These methods are bound to the class itself, rather than to instances of the class.\n",
        "\n",
        "Access: They can access or modify class-level attributes (i.e., attributes shared among all instances of the class).\n",
        "\n",
        "Decorator: They are marked with the @classmethod decorator.\n",
        "\n",
        "Cls: They take cls as the first parameter, which refers to the class, not the instance."
      ],
      "metadata": {
        "id": "wTAdkWvd-dBp"
      }
    },
    {
      "cell_type": "code",
      "source": [
        "#example class method\n",
        "class Car:\n",
        "    total_cars = 0  # Class variable\n",
        "\n",
        "    def __init__(self, make, model):\n",
        "        self.make = make\n",
        "        self.model = model\n",
        "        Car.total_cars += 1  # Modify class-level attribute\n",
        "\n",
        "    @classmethod\n",
        "    def get_total_cars(cls):\n",
        "        return f\"Total cars created: {cls.total_cars}\"\n",
        "\n",
        "# Create instances of Car\n",
        "car1 = Car(\"Toyota\", \"Corolla\")\n",
        "car2 = Car(\"Honda\", \"Civic\")\n",
        "\n",
        "# Call the class method\n",
        "print(Car.get_total_cars())  # Output: Total cars created: 2\n"
      ],
      "metadata": {
        "colab": {
          "base_uri": "https://localhost:8080/"
        },
        "id": "RwMXFHsH-fx3",
        "outputId": "03870567-e71f-4456-82e3-4e4ff8bf287c"
      },
      "execution_count": 4,
      "outputs": [
        {
          "output_type": "stream",
          "name": "stdout",
          "text": [
            "Total cars created: 2\n"
          ]
        }
      ]
    },
    {
      "cell_type": "code",
      "source": [
        "#Q4 -  How does Python implement method overloading? Give an example."
      ],
      "metadata": {
        "id": "PLqHVI0U-z0h"
      },
      "execution_count": null,
      "outputs": []
    },
    {
      "cell_type": "markdown",
      "source": [
        "Python does not support method overloading in the traditional sense (like languages such as Java or C++ do). In Python, defining multiple methods with the same name and different parameters will simply overwrite the previous method definition.\n",
        "\n",
        "\n",
        "However, Python can achieve a similar effect through other mechanisms like:\n",
        "\n",
        "Default Arguments: You can define default values for parameters and check within the method how many arguments were passed.\n",
        "\n",
        "Variable-Length Arguments: Using *args and **kwargs, a method can accept an arbitrary number of arguments and process them accordingly.\n",
        "\n",
        "Type Checking: You can check the types of the arguments within the method to handle different cases."
      ],
      "metadata": {
        "id": "4-nxMjhP-9dY"
      }
    },
    {
      "cell_type": "code",
      "source": [
        "#Example: Using Default Arguments and *args\n",
        "class Example:\n",
        "    # Method with default and variable arguments\n",
        "    def display(self, a=None, b=None, *args):\n",
        "        if a is not None and b is None:\n",
        "            print(f\"Single argument: {a}\")\n",
        "        elif a is not None and b is not None:\n",
        "            print(f\"Two arguments: {a}, {b}\")\n",
        "        elif a is None and b is None:\n",
        "            print(\"No arguments\")\n",
        "        if args:\n",
        "            print(f\"Additional arguments: {args}\")\n",
        "\n",
        "# Create an instance\n",
        "example = Example()\n",
        "\n",
        "# Call the method with different numbers of arguments\n",
        "example.display(10)        # Single argument\n",
        "example.display(10, 20)    # Two arguments\n",
        "example.display()          # No arguments\n",
        "example.display(10, 20, 30, 40)  # Variable-length arguments\n"
      ],
      "metadata": {
        "colab": {
          "base_uri": "https://localhost:8080/"
        },
        "id": "ROCmkacj_Mix",
        "outputId": "d9b5ca13-842d-4159-9edd-0c804eb9a7f5"
      },
      "execution_count": 5,
      "outputs": [
        {
          "output_type": "stream",
          "name": "stdout",
          "text": [
            "Single argument: 10\n",
            "Two arguments: 10, 20\n",
            "No arguments\n",
            "Two arguments: 10, 20\n",
            "Additional arguments: (30, 40)\n"
          ]
        }
      ]
    },
    {
      "cell_type": "code",
      "source": [
        "#Q5 - What are the three types of access modifiers in Python? How are they denoted?"
      ],
      "metadata": {
        "id": "SXVy2-Mg_S6H"
      },
      "execution_count": null,
      "outputs": []
    },
    {
      "cell_type": "markdown",
      "source": [
        "In Python, there are three types of access modifiers used to define the visibility of class members (attributes and methods). These are:\n",
        "\n",
        "1 - Public:\n",
        "\n",
        "Denoted by: No leading underscore (default).\n",
        "\n",
        "Usage: Public members are accessible from anywhere, both inside and outside of the class.\n",
        "\n",
        "2 - Protected:\n",
        "\n",
        "Denoted by: A single leading underscore (_).\n",
        "\n",
        "Usage: Protected members are intended to be used within the class and its subclasses, but can still be accessed outside (though it's discouraged by convention).\n",
        "\n",
        "3 - Private:\n",
        "\n",
        "Denoted by: A double leading underscore (__).\n",
        "\n",
        "Usage: Private members are accessible only within the class in which they are defined. Python performs name mangling to prevent accidental access, but they can still be accessed using a special syntax."
      ],
      "metadata": {
        "id": "axBVl9mb_YoH"
      }
    },
    {
      "cell_type": "code",
      "source": [
        "#Q6 -  Describe the five types of inheritance in Python. Provide a simple example of multiple inheritance."
      ],
      "metadata": {
        "id": "exZ47yoz_udR"
      },
      "execution_count": null,
      "outputs": []
    },
    {
      "cell_type": "code",
      "source": [
        "#1. Single Inheritance\n",
        "#A class inherits from one parent class.\n",
        "\n",
        "#example\n",
        "class Animal:\n",
        "    def speak(self):\n",
        "        print(\"Animal speaks\")\n",
        "\n",
        "class Dog(Animal):\n",
        "    def bark(self):\n",
        "        print(\"Dog barks\")\n",
        "\n",
        "dog = Dog()\n",
        "dog.speak()  # Inherited from Animal\n",
        "dog.bark()   # Defined in Dog\n"
      ],
      "metadata": {
        "colab": {
          "base_uri": "https://localhost:8080/"
        },
        "id": "LZLLieWQAAIi",
        "outputId": "d3213395-5cfc-4f6f-e23b-2daf9f298c1e"
      },
      "execution_count": 6,
      "outputs": [
        {
          "output_type": "stream",
          "name": "stdout",
          "text": [
            "Animal speaks\n",
            "Dog barks\n"
          ]
        }
      ]
    },
    {
      "cell_type": "code",
      "source": [
        "#2. Multiple Inheritance\n",
        "#A class inherits from more than one parent class.\n",
        "\n",
        "#Example:\n",
        "class Bird:\n",
        "    def fly(self):\n",
        "        print(\"Bird can fly\")\n",
        "\n",
        "class Fish:\n",
        "    def swim(self):\n",
        "        print(\"Fish can swim\")\n",
        "\n",
        "class FlyingFish(Bird, Fish):\n",
        "    pass\n",
        "\n",
        "ff = FlyingFish()\n",
        "ff.fly()   # Inherited from Bird\n",
        "ff.swim()  # Inherited from Fish\n"
      ],
      "metadata": {
        "colab": {
          "base_uri": "https://localhost:8080/"
        },
        "id": "jVm6BDGjAALT",
        "outputId": "4d50951c-948e-44ec-fd8d-7fd08449c974"
      },
      "execution_count": 7,
      "outputs": [
        {
          "output_type": "stream",
          "name": "stdout",
          "text": [
            "Bird can fly\n",
            "Fish can swim\n"
          ]
        }
      ]
    },
    {
      "cell_type": "code",
      "source": [
        "#3. Multilevel Inheritance\n",
        "#A class inherits from a parent class, which itself inherits from another class.\n",
        "\n",
        "#example\n",
        "\n",
        "class Animal:\n",
        "    def eat(self):\n",
        "        print(\"Animal eats\")\n",
        "\n",
        "class Mammal(Animal):\n",
        "    def walk(self):\n",
        "        print(\"Mammal walks\")\n",
        "\n",
        "class Dog(Mammal):\n",
        "    def bark(self):\n",
        "        print(\"Dog barks\")\n",
        "\n",
        "dog = Dog()\n",
        "dog.eat()   # Inherited from Animal\n",
        "dog.walk()  # Inherited from Mammal\n",
        "dog.bark()  # Defined in Dog\n"
      ],
      "metadata": {
        "colab": {
          "base_uri": "https://localhost:8080/"
        },
        "id": "LmY0Qo60AARU",
        "outputId": "2233d2f6-80c6-4028-c70b-39f32d1b09ae"
      },
      "execution_count": 8,
      "outputs": [
        {
          "output_type": "stream",
          "name": "stdout",
          "text": [
            "Animal eats\n",
            "Mammal walks\n",
            "Dog barks\n"
          ]
        }
      ]
    },
    {
      "cell_type": "code",
      "source": [
        "#4. Hierarchical Inheritance\n",
        "#Multiple classes inherit from the same parent class.\n",
        "\n",
        "#Example:\n",
        "\n",
        "class Animal:\n",
        "    def speak(self):\n",
        "        print(\"Animal speaks\")\n",
        "\n",
        "class Dog(Animal):\n",
        "    def bark(self):\n",
        "        print(\"Dog barks\")\n",
        "\n",
        "class Cat(Animal):\n",
        "    def meow(self):\n",
        "        print(\"Cat meows\")\n",
        "\n",
        "dog = Dog()\n",
        "cat = Cat()\n",
        "dog.speak()  # Inherited from Animal\n",
        "cat.speak()  # Inherited from Animal\n"
      ],
      "metadata": {
        "colab": {
          "base_uri": "https://localhost:8080/"
        },
        "id": "zTV2KEATAAU8",
        "outputId": "82f1c978-04eb-4e25-8e87-02c6679f62a6"
      },
      "execution_count": 9,
      "outputs": [
        {
          "metadata": {
            "tags": null
          },
          "name": "stdout",
          "output_type": "stream",
          "text": [
            "Animal speaks\n",
            "Animal speaks\n"
          ]
        }
      ]
    },
    {
      "cell_type": "code",
      "source": [
        "#5. Hybrid Inheritance\n",
        "#A combination of multiple inheritance types, typically combining hierarchical and multiple inheritance.\n",
        "\n",
        "#Example:\n",
        "\n",
        "class Animal:\n",
        "    def speak(self):\n",
        "        print(\"Animal speaks\")\n",
        "\n",
        "class Bird(Animal):\n",
        "    def fly(self):\n",
        "        print(\"Bird can fly\")\n",
        "\n",
        "class Fish(Animal):\n",
        "    def swim(self):\n",
        "        print(\"Fish can swim\")\n",
        "\n",
        "class FlyingFish(Bird, Fish):\n",
        "    pass\n",
        "\n",
        "ff = FlyingFish()\n",
        "ff.fly()   # Inherited from Bird\n",
        "ff.swim()  # Inherited from Fish\n",
        "ff.speak() # Inherited from Animal\n"
      ],
      "metadata": {
        "colab": {
          "base_uri": "https://localhost:8080/"
        },
        "id": "luLSDcM_Ai3q",
        "outputId": "d7e80298-a04f-4362-b98c-f6468ee54868"
      },
      "execution_count": 10,
      "outputs": [
        {
          "output_type": "stream",
          "name": "stdout",
          "text": [
            "Bird can fly\n",
            "Fish can swim\n",
            "Animal speaks\n"
          ]
        }
      ]
    },
    {
      "cell_type": "code",
      "source": [
        "#Q 7. What is the Method Resolution Order (MRO) in Python? How can you retrieve it programmatically?"
      ],
      "metadata": {
        "id": "vskj4lazAi5g"
      },
      "execution_count": null,
      "outputs": []
    },
    {
      "cell_type": "markdown",
      "source": [
        "In Python, the Method Resolution Order (MRO) defines the order in which base classes are searched when looking for a method or attribute in the inheritance hierarchy. This is particularly important in the context of multiple inheritance. Python follows the C3 Linearization algorithm to determine the MRO.\n",
        "\n",
        "Key Points of MRO:\n",
        "-Single inheritance: In simple single inheritance, the search order is from child to parent, following the inheritance chain.\n",
        "\n",
        "-Multiple inheritance: In multiple inheritance, MRO ensures that a class is only looked up once, and it resolves potential conflicts between different parent classes.\n",
        "\n",
        "The MRO helps Python determine which method to call first when classes share methods or attributes."
      ],
      "metadata": {
        "id": "bopZxSX_BBVq"
      }
    },
    {
      "cell_type": "code",
      "source": [
        "#Example of MRO with Multiple Inheritance:\n",
        "class A:\n",
        "    def method(self):\n",
        "        print(\"A\")\n",
        "\n",
        "class B(A):\n",
        "    def method(self):\n",
        "        print(\"B\")\n",
        "\n",
        "class C(A):\n",
        "    def method(self):\n",
        "        print(\"C\")\n",
        "\n",
        "class D(B, C):\n",
        "    pass\n",
        "\n",
        "d = D()\n",
        "d.method()  # Output: \"B\"\n"
      ],
      "metadata": {
        "colab": {
          "base_uri": "https://localhost:8080/"
        },
        "id": "20UpgO2RBFE3",
        "outputId": "6e823e54-61a8-419b-bd62-7f229f6a4d41"
      },
      "execution_count": 11,
      "outputs": [
        {
          "output_type": "stream",
          "name": "stdout",
          "text": [
            "B\n"
          ]
        }
      ]
    },
    {
      "cell_type": "markdown",
      "source": [
        "Retrieving MRO Programmatically\n",
        "You can retrieve the MRO of a class using the __mro__ attribute or the built-in mro() method."
      ],
      "metadata": {
        "id": "IJg7ZkrTBMcM"
      }
    },
    {
      "cell_type": "code",
      "source": [
        "#1- Using __mro__ attribute:\n",
        "\n",
        "print(D.__mro__)\n",
        "#2 -Using mro() method:\n",
        "print(D.mro())"
      ],
      "metadata": {
        "colab": {
          "base_uri": "https://localhost:8080/"
        },
        "id": "GQ1ShPC2BPvS",
        "outputId": "cb8d4acc-aa12-409b-8543-f4be6dcf5ee6"
      },
      "execution_count": 12,
      "outputs": [
        {
          "output_type": "stream",
          "name": "stdout",
          "text": [
            "(<class '__main__.D'>, <class '__main__.B'>, <class '__main__.C'>, <class '__main__.A'>, <class 'object'>)\n",
            "[<class '__main__.D'>, <class '__main__.B'>, <class '__main__.C'>, <class '__main__.A'>, <class 'object'>]\n"
          ]
        }
      ]
    },
    {
      "cell_type": "code",
      "source": [
        "#Q8 - Create an abstract base class `Shape` with an abstract method `area()`. Then create two subclasses `Circle` and `Rectangle` that implement the `area()` method."
      ],
      "metadata": {
        "id": "rUnZQ3ISBizD"
      },
      "execution_count": null,
      "outputs": []
    },
    {
      "cell_type": "markdown",
      "source": [
        "\n",
        "Here’s how you can create an abstract base class Shape with an abstract method area() and two subclasses Circle and Rectangle that implement the area()"
      ],
      "metadata": {
        "id": "Dk3W3kSgBupr"
      }
    },
    {
      "cell_type": "code",
      "source": [
        "from abc import ABC, abstractmethod\n",
        "import math\n",
        "\n",
        "# Abstract base class\n",
        "class Shape(ABC):\n",
        "    @abstractmethod\n",
        "    def area(self):\n",
        "        pass\n",
        "\n",
        "# Subclass Circle that implements the area() method\n",
        "class Circle(Shape):\n",
        "    def __init__(self, radius):\n",
        "        self.radius = radius\n",
        "\n",
        "    def area(self):\n",
        "        return math.pi * self.radius**2\n",
        "\n",
        "# Subclass Rectangle that implements the area() method\n",
        "class Rectangle(Shape):\n",
        "    def __init__(self, width, height):\n",
        "        self.width = width\n",
        "        self.height = height\n",
        "\n",
        "    def area(self):\n",
        "        return self.width * self.height\n",
        "\n",
        "# Example usage\n",
        "circle = Circle(5)\n",
        "print(f\"Area of the circle: {circle.area()}\")\n",
        "\n",
        "rectangle = Rectangle(4, 6)\n",
        "print(f\"Area of the rectangle: {rectangle.area()}\")\n"
      ],
      "metadata": {
        "colab": {
          "base_uri": "https://localhost:8080/"
        },
        "id": "VVzf-dHVBvSB",
        "outputId": "b17a4bba-3f88-45bc-e8ab-92516eb4692a"
      },
      "execution_count": 13,
      "outputs": [
        {
          "output_type": "stream",
          "name": "stdout",
          "text": [
            "Area of the circle: 78.53981633974483\n",
            "Area of the rectangle: 24\n"
          ]
        }
      ]
    },
    {
      "cell_type": "code",
      "source": [
        "#Q9 - Demonstrate polymorphism by creating a function that can work with different shape objects to calculate and print their areas."
      ],
      "metadata": {
        "id": "VdPfMG1rB21Y"
      },
      "execution_count": null,
      "outputs": []
    },
    {
      "cell_type": "markdown",
      "source": [
        "\n",
        "Polymorphism allows objects of different classes to be treated as objects of a common superclass. In Python, you can achieve this by defining a common interface (e.g., a method) that different shape classes implement."
      ],
      "metadata": {
        "id": "nYVUftqMB-Uf"
      }
    },
    {
      "cell_type": "code",
      "source": [
        "#Here's an example demonstrating polymorphism with shape objects to calculate and print their areas:\n",
        "class Shape:\n",
        "    def area(self):\n",
        "        raise NotImplementedError(\"Subclasses must implement this method\")\n",
        "\n",
        "class Circle(Shape):\n",
        "    def __init__(self, radius):\n",
        "        self.radius = radius\n",
        "\n",
        "    def area(self):\n",
        "        return 3.14159 * self.radius ** 2\n",
        "\n",
        "class Rectangle(Shape):\n",
        "    def __init__(self, width, height):\n",
        "        self.width = width\n",
        "        self.height = height\n",
        "\n",
        "    def area(self):\n",
        "        return self.width * self.height\n",
        "\n",
        "class Triangle(Shape):\n",
        "    def __init__(self, base, height):\n",
        "        self.base = base\n",
        "        self.height = height\n",
        "\n",
        "    def area(self):\n",
        "        return 0.5 * self.base * self.height\n",
        "\n",
        "def print_area(shape):\n",
        "    print(f\"The area of the shape is: {shape.area()}\")\n",
        "\n",
        "# Create instances of shapes\n",
        "circle = Circle(5)\n",
        "rectangle = Rectangle(4, 6)\n",
        "triangle = Triangle(3, 7)\n",
        "\n",
        "# Print areas using polymorphism\n",
        "print_area(circle)       # The area of the shape is: 78.53975\n",
        "print_area(rectangle)    # The area of the shape is: 24\n",
        "print_area(triangle)     # The area of the shape is: 10.5\n"
      ],
      "metadata": {
        "colab": {
          "base_uri": "https://localhost:8080/"
        },
        "id": "OcsYkYWlB-1H",
        "outputId": "ef916cbd-bf47-402a-e003-ad1d1ba47424"
      },
      "execution_count": 14,
      "outputs": [
        {
          "output_type": "stream",
          "name": "stdout",
          "text": [
            "The area of the shape is: 78.53975\n",
            "The area of the shape is: 24\n",
            "The area of the shape is: 10.5\n"
          ]
        }
      ]
    },
    {
      "cell_type": "code",
      "source": [
        "#Q10 -  Implement encapsulation in a `BankAccount` class with private attributes for `balance` and `account_number`. Include methods for deposit, withdrawal, and balance inquiry"
      ],
      "metadata": {
        "id": "qu3BYuSDCKGJ"
      },
      "execution_count": null,
      "outputs": []
    },
    {
      "cell_type": "code",
      "source": [
        "class BankAccount:\n",
        "    def __init__(self, account_number, initial_balance=0):\n",
        "        self.__account_number = account_number  # private attribute\n",
        "        self.__balance = initial_balance         # private attribute\n",
        "\n",
        "    def deposit(self, amount):\n",
        "        if amount > 0:\n",
        "            self.__balance += amount\n",
        "            print(f\"Deposited: ${amount:.2f}. New balance: ${self.__balance:.2f}\")\n",
        "        else:\n",
        "            print(\"Deposit amount must be positive.\")\n",
        "\n",
        "    def withdraw(self, amount):\n",
        "        if 0 < amount <= self.__balance:\n",
        "            self.__balance -= amount\n",
        "            print(f\"Withdrew: ${amount:.2f}. New balance: ${self.__balance:.2f}\")\n",
        "        else:\n",
        "            print(\"Insufficient funds or invalid withdrawal amount.\")\n",
        "\n",
        "    def get_balance(self):\n",
        "        return self.__balance\n",
        "\n",
        "    def get_account_number(self):\n",
        "        return self.__account_number\n",
        "\n",
        "# Example usage\n",
        "account = BankAccount(\"123456789\", 1000)\n",
        "account.deposit(500)\n",
        "account.withdraw(200)\n",
        "print(f\"Account Number: {account.get_account_number()}\")\n",
        "print(f\"Current Balance: ${account.get_balance():.2f}\")\n"
      ],
      "metadata": {
        "colab": {
          "base_uri": "https://localhost:8080/"
        },
        "id": "lkf3QhuRCPtZ",
        "outputId": "7d58fd4f-8f3c-4d8b-f6bc-f801d889ea72"
      },
      "execution_count": 15,
      "outputs": [
        {
          "output_type": "stream",
          "name": "stdout",
          "text": [
            "Deposited: $500.00. New balance: $1500.00\n",
            "Withdrew: $200.00. New balance: $1300.00\n",
            "Account Number: 123456789\n",
            "Current Balance: $1300.00\n"
          ]
        }
      ]
    },
    {
      "cell_type": "code",
      "source": [
        "#Q11 - Write a class that overrides the `__str__` and `__add__` magic methods. What will these methods allow you to do?"
      ],
      "metadata": {
        "id": "PgDBtJrhCRWa"
      },
      "execution_count": null,
      "outputs": []
    },
    {
      "cell_type": "markdown",
      "source": [
        "In Python, the __str__ and __add__ magic methods allow you to define custom behavior for string representation and addition, respectively, for instances of a class."
      ],
      "metadata": {
        "id": "bHZvcuCSCZZp"
      }
    },
    {
      "cell_type": "code",
      "source": [
        "# Here's an example class that overrides these methods:\n",
        "\n",
        "class MyNumber:\n",
        "    def __init__(self, value):\n",
        "        self.value = value\n",
        "\n",
        "    def __str__(self):\n",
        "        return f\"MyNumber with value: {self.value}\"\n",
        "\n",
        "    def __add__(self, other):\n",
        "        if isinstance(other, MyNumber):\n",
        "            return MyNumber(self.value + other.value)\n",
        "        return NotImplemented\n",
        "\n",
        "# Usage\n",
        "num1 = MyNumber(10)\n",
        "num2 = MyNumber(20)\n",
        "\n",
        "print(num1)              # Output: MyNumber with value: 10\n",
        "print(num2)              # Output: MyNumber with value: 20\n",
        "\n",
        "num3 = num1 + num2      # Using the __add__ method\n",
        "print(num3)             # Output: MyNumber with value: 30\n"
      ],
      "metadata": {
        "colab": {
          "base_uri": "https://localhost:8080/"
        },
        "id": "p9Ukf__YCaaa",
        "outputId": "4a99a399-b736-42ac-f382-b24ad35e2ad0"
      },
      "execution_count": 16,
      "outputs": [
        {
          "output_type": "stream",
          "name": "stdout",
          "text": [
            "MyNumber with value: 10\n",
            "MyNumber with value: 20\n",
            "MyNumber with value: 30\n"
          ]
        }
      ]
    },
    {
      "cell_type": "code",
      "source": [
        "#Q12 - Create a decorator that measures and prints the execution time of a function."
      ],
      "metadata": {
        "id": "3cBLuuY9Cg1m"
      },
      "execution_count": null,
      "outputs": []
    },
    {
      "cell_type": "code",
      "source": [
        "import time\n",
        "\n",
        "def timeit(func):\n",
        "    def wrapper(*args, **kwargs):\n",
        "        start_time = time.time()  # Record the start time\n",
        "        result = func(*args, **kwargs)  # Call the function\n",
        "        end_time = time.time()  # Record the end time\n",
        "        execution_time = end_time - start_time  # Calculate the execution time\n",
        "        print(f\"Execution time of '{func.__name__}': {execution_time:.4f} seconds\")\n",
        "        return result  # Return the result of the function\n",
        "    return wrapper\n",
        "\n",
        "# Example usage\n",
        "@timeit\n",
        "def example_function():\n",
        "    time.sleep(2)  # Simulate a time-consuming task\n",
        "\n",
        "example_function()\n"
      ],
      "metadata": {
        "colab": {
          "base_uri": "https://localhost:8080/"
        },
        "id": "IA49aOmaCo9c",
        "outputId": "889ee91e-f1cd-45b9-8d27-d1b769e0069d"
      },
      "execution_count": 17,
      "outputs": [
        {
          "output_type": "stream",
          "name": "stdout",
          "text": [
            "Execution time of 'example_function': 2.0021 seconds\n"
          ]
        }
      ]
    },
    {
      "cell_type": "code",
      "source": [
        "#Q13 -  Explain the concept of the Diamond Problem in multiple inheritance. How does Python resolve it?"
      ],
      "metadata": {
        "id": "7q-6rwD_Cq5m"
      },
      "execution_count": null,
      "outputs": []
    },
    {
      "cell_type": "markdown",
      "source": [
        "The Diamond Problem is a common issue in multiple inheritance scenarios, where a class inherits from two classes that both inherit from a common superclass\n",
        "\n",
        "\n",
        "How Python Resolves the Diamond Problem\n",
        "\n",
        "Python uses the C3 linearization algorithm (or C3 superclass linearization) to resolve method resolution order (MRO). This method ensures a consistent order of resolution and a single, linear path through the inheritance hierarchy."
      ],
      "metadata": {
        "id": "rLymxSbOC4Q-"
      }
    },
    {
      "cell_type": "code",
      "source": [
        "class A:\n",
        "    def method(self):\n",
        "        print(\"A's method\")\n",
        "\n",
        "class B(A):\n",
        "    def method(self):\n",
        "        print(\"B's method\")\n",
        "\n",
        "class C(A):\n",
        "    def method(self):\n",
        "        print(\"C's method\")\n",
        "\n",
        "class D(B, C):\n",
        "    pass\n",
        "\n",
        "print(D.mro())\n",
        "\n",
        "\n",
        "#In this example, if you create an instance of D and call method(), Python will check D first, then B, then C, and finally A. The output will show the order:"
      ],
      "metadata": {
        "colab": {
          "base_uri": "https://localhost:8080/"
        },
        "id": "QSi63DDHC9fS",
        "outputId": "4aa3a2d3-997f-4b94-d79c-966aa6299f00"
      },
      "execution_count": 18,
      "outputs": [
        {
          "output_type": "stream",
          "name": "stdout",
          "text": [
            "[<class '__main__.D'>, <class '__main__.B'>, <class '__main__.C'>, <class '__main__.A'>, <class 'object'>]\n"
          ]
        }
      ]
    },
    {
      "cell_type": "code",
      "source": [
        "#Q14 - Write a class method that keeps track of the number of instances created from a class."
      ],
      "metadata": {
        "id": "YLyhuGJEDEmk"
      },
      "execution_count": null,
      "outputs": []
    },
    {
      "cell_type": "code",
      "source": [
        "class MyClass:\n",
        "    instance_count = 0  # Class variable to keep track of instances\n",
        "\n",
        "    def __init__(self):\n",
        "        MyClass.instance_count += 1  # Increment the instance count when a new instance is created\n",
        "\n",
        "    @classmethod\n",
        "    def get_instance_count(cls):\n",
        "        return cls.instance_count  # Return the current instance count\n",
        "\n",
        "# Example usage\n",
        "if __name__ == \"__main__\":\n",
        "    obj1 = MyClass()\n",
        "    obj2 = MyClass()\n",
        "    obj3 = MyClass()\n",
        "\n",
        "    print(MyClass.get_instance_count())  # Output: 3\n"
      ],
      "metadata": {
        "colab": {
          "base_uri": "https://localhost:8080/"
        },
        "id": "5Murgj1qDNG6",
        "outputId": "791b4c7c-9c93-41b4-bcd0-4b8684e10c02"
      },
      "execution_count": 19,
      "outputs": [
        {
          "output_type": "stream",
          "name": "stdout",
          "text": [
            "3\n"
          ]
        }
      ]
    },
    {
      "cell_type": "code",
      "source": [
        "#Q15 -  Implement a static method in a class that checks if a given year is a leap year."
      ],
      "metadata": {
        "id": "3GBM5t7dDOuK"
      },
      "execution_count": null,
      "outputs": []
    },
    {
      "cell_type": "code",
      "source": [
        "class YearUtils:\n",
        "    @staticmethod\n",
        "    def is_leap_year(year):\n",
        "        \"\"\"Check if a given year is a leap year.\"\"\"\n",
        "        if (year % 4 == 0 and year % 100 != 0) or (year % 400 == 0):\n",
        "            return True\n",
        "        return False\n",
        "\n",
        "# Example usage:\n",
        "year = 2024\n",
        "if YearUtils.is_leap_year(year):\n",
        "    print(f\"{year} is a leap year.\")\n",
        "else:\n",
        "    print(f\"{year} is not a leap year.\")\n"
      ],
      "metadata": {
        "colab": {
          "base_uri": "https://localhost:8080/"
        },
        "id": "WCvT2-9RDS3S",
        "outputId": "4106c073-acaa-45f0-98be-dbc5699e13b4"
      },
      "execution_count": 20,
      "outputs": [
        {
          "output_type": "stream",
          "name": "stdout",
          "text": [
            "2024 is a leap year.\n"
          ]
        }
      ]
    }
  ]
}